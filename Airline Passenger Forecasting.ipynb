{
 "cells": [
  {
   "cell_type": "code",
   "execution_count": 1,
   "id": "fb4c0852",
   "metadata": {},
   "outputs": [
    {
     "name": "stdout",
     "output_type": "stream",
     "text": [
      "WARNING:tensorflow:From C:\\Users\\User\\anaconda\\envs\\mbdiploma\\Lib\\site-packages\\keras\\src\\losses.py:2976: The name tf.losses.sparse_softmax_cross_entropy is deprecated. Please use tf.compat.v1.losses.sparse_softmax_cross_entropy instead.\n",
      "\n"
     ]
    }
   ],
   "source": [
    "import numpy as np\n",
    "import matplotlib.pyplot as plt\n",
    "import pandas as pd\n",
    "from tensorflow.keras.models import Sequential\n",
    "from tensorflow.keras.layers import LSTM,Dense\n",
    "from sklearn.preprocessing import MinMaxScaler\n",
    "%matplotlib inline"
   ]
  },
  {
   "cell_type": "code",
   "execution_count": 2,
   "id": "b196cd43",
   "metadata": {},
   "outputs": [
    {
     "data": {
      "text/html": [
       "<div>\n",
       "<style scoped>\n",
       "    .dataframe tbody tr th:only-of-type {\n",
       "        vertical-align: middle;\n",
       "    }\n",
       "\n",
       "    .dataframe tbody tr th {\n",
       "        vertical-align: top;\n",
       "    }\n",
       "\n",
       "    .dataframe thead th {\n",
       "        text-align: right;\n",
       "    }\n",
       "</style>\n",
       "<table border=\"1\" class=\"dataframe\">\n",
       "  <thead>\n",
       "    <tr style=\"text-align: right;\">\n",
       "      <th></th>\n",
       "      <th>Month</th>\n",
       "      <th>#Passengers</th>\n",
       "    </tr>\n",
       "  </thead>\n",
       "  <tbody>\n",
       "    <tr>\n",
       "      <th>0</th>\n",
       "      <td>1949-01</td>\n",
       "      <td>112</td>\n",
       "    </tr>\n",
       "    <tr>\n",
       "      <th>1</th>\n",
       "      <td>1949-02</td>\n",
       "      <td>118</td>\n",
       "    </tr>\n",
       "    <tr>\n",
       "      <th>2</th>\n",
       "      <td>1949-03</td>\n",
       "      <td>132</td>\n",
       "    </tr>\n",
       "    <tr>\n",
       "      <th>3</th>\n",
       "      <td>1949-04</td>\n",
       "      <td>129</td>\n",
       "    </tr>\n",
       "    <tr>\n",
       "      <th>4</th>\n",
       "      <td>1949-05</td>\n",
       "      <td>121</td>\n",
       "    </tr>\n",
       "    <tr>\n",
       "      <th>5</th>\n",
       "      <td>1949-06</td>\n",
       "      <td>135</td>\n",
       "    </tr>\n",
       "    <tr>\n",
       "      <th>6</th>\n",
       "      <td>1949-07</td>\n",
       "      <td>148</td>\n",
       "    </tr>\n",
       "    <tr>\n",
       "      <th>7</th>\n",
       "      <td>1949-08</td>\n",
       "      <td>148</td>\n",
       "    </tr>\n",
       "    <tr>\n",
       "      <th>8</th>\n",
       "      <td>1949-09</td>\n",
       "      <td>136</td>\n",
       "    </tr>\n",
       "    <tr>\n",
       "      <th>9</th>\n",
       "      <td>1949-10</td>\n",
       "      <td>119</td>\n",
       "    </tr>\n",
       "  </tbody>\n",
       "</table>\n",
       "</div>"
      ],
      "text/plain": [
       "     Month  #Passengers\n",
       "0  1949-01          112\n",
       "1  1949-02          118\n",
       "2  1949-03          132\n",
       "3  1949-04          129\n",
       "4  1949-05          121\n",
       "5  1949-06          135\n",
       "6  1949-07          148\n",
       "7  1949-08          148\n",
       "8  1949-09          136\n",
       "9  1949-10          119"
      ]
     },
     "execution_count": 2,
     "metadata": {},
     "output_type": "execute_result"
    }
   ],
   "source": [
    "data=pd.read_csv('AirPassengers 2.xls')\n",
    "data.head(10)"
   ]
  },
  {
   "cell_type": "code",
   "execution_count": 3,
   "id": "b28f55ee",
   "metadata": {},
   "outputs": [
    {
     "data": {
      "text/html": [
       "<div>\n",
       "<style scoped>\n",
       "    .dataframe tbody tr th:only-of-type {\n",
       "        vertical-align: middle;\n",
       "    }\n",
       "\n",
       "    .dataframe tbody tr th {\n",
       "        vertical-align: top;\n",
       "    }\n",
       "\n",
       "    .dataframe thead th {\n",
       "        text-align: right;\n",
       "    }\n",
       "</style>\n",
       "<table border=\"1\" class=\"dataframe\">\n",
       "  <thead>\n",
       "    <tr style=\"text-align: right;\">\n",
       "      <th></th>\n",
       "      <th>Month</th>\n",
       "      <th>#Passengers</th>\n",
       "    </tr>\n",
       "  </thead>\n",
       "  <tbody>\n",
       "    <tr>\n",
       "      <th>139</th>\n",
       "      <td>1960-08</td>\n",
       "      <td>606</td>\n",
       "    </tr>\n",
       "    <tr>\n",
       "      <th>140</th>\n",
       "      <td>1960-09</td>\n",
       "      <td>508</td>\n",
       "    </tr>\n",
       "    <tr>\n",
       "      <th>141</th>\n",
       "      <td>1960-10</td>\n",
       "      <td>461</td>\n",
       "    </tr>\n",
       "    <tr>\n",
       "      <th>142</th>\n",
       "      <td>1960-11</td>\n",
       "      <td>390</td>\n",
       "    </tr>\n",
       "    <tr>\n",
       "      <th>143</th>\n",
       "      <td>1960-12</td>\n",
       "      <td>432</td>\n",
       "    </tr>\n",
       "  </tbody>\n",
       "</table>\n",
       "</div>"
      ],
      "text/plain": [
       "       Month  #Passengers\n",
       "139  1960-08          606\n",
       "140  1960-09          508\n",
       "141  1960-10          461\n",
       "142  1960-11          390\n",
       "143  1960-12          432"
      ]
     },
     "execution_count": 3,
     "metadata": {},
     "output_type": "execute_result"
    }
   ],
   "source": [
    "data.tail()"
   ]
  },
  {
   "cell_type": "code",
   "execution_count": 4,
   "id": "f1ab2c76",
   "metadata": {},
   "outputs": [
    {
     "data": {
      "text/plain": [
       "(144, 2)"
      ]
     },
     "execution_count": 4,
     "metadata": {},
     "output_type": "execute_result"
    }
   ],
   "source": [
    "data.shape"
   ]
  },
  {
   "cell_type": "code",
   "execution_count": 5,
   "id": "cb9087a6",
   "metadata": {},
   "outputs": [
    {
     "name": "stdout",
     "output_type": "stream",
     "text": [
      "<class 'pandas.core.frame.DataFrame'>\n",
      "RangeIndex: 144 entries, 0 to 143\n",
      "Data columns (total 2 columns):\n",
      " #   Column       Non-Null Count  Dtype \n",
      "---  ------       --------------  ----- \n",
      " 0   Month        144 non-null    object\n",
      " 1   #Passengers  144 non-null    int64 \n",
      "dtypes: int64(1), object(1)\n",
      "memory usage: 2.4+ KB\n"
     ]
    }
   ],
   "source": [
    "data.info()"
   ]
  },
  {
   "cell_type": "code",
   "execution_count": 6,
   "id": "ebbe6b70",
   "metadata": {},
   "outputs": [
    {
     "data": {
      "text/plain": [
       "Text(0.5, 1.0, 'Number of Passengers according to Months')"
      ]
     },
     "execution_count": 6,
     "metadata": {},
     "output_type": "execute_result"
    },
    {
     "data": {
      "image/png": "[encoded data removed]",
      "text/plain": [
       "<Figure size 1200x800 with 1 Axes>"
      ]
     },
     "metadata": {},
     "output_type": "display_data"
    }
   ],
   "source": [
    "plt.figure(figsize=(12,8))\n",
    "plt.plot(data['#Passengers'])\n",
    "plt.title(\"Number of Passengers according to Months\")"
   ]
  },
  {
   "cell_type": "code",
   "execution_count": 7,
   "id": "13f13389",
   "metadata": {},
   "outputs": [
    {
     "data": {
      "text/html": [
       "<div>\n",
       "<style scoped>\n",
       "    .dataframe tbody tr th:only-of-type {\n",
       "        vertical-align: middle;\n",
       "    }\n",
       "\n",
       "    .dataframe tbody tr th {\n",
       "        vertical-align: top;\n",
       "    }\n",
       "\n",
       "    .dataframe thead th {\n",
       "        text-align: right;\n",
       "    }\n",
       "</style>\n",
       "<table border=\"1\" class=\"dataframe\">\n",
       "  <thead>\n",
       "    <tr style=\"text-align: right;\">\n",
       "      <th></th>\n",
       "      <th>#Passengers</th>\n",
       "    </tr>\n",
       "  </thead>\n",
       "  <tbody>\n",
       "    <tr>\n",
       "      <th>0</th>\n",
       "      <td>112</td>\n",
       "    </tr>\n",
       "    <tr>\n",
       "      <th>1</th>\n",
       "      <td>118</td>\n",
       "    </tr>\n",
       "    <tr>\n",
       "      <th>2</th>\n",
       "      <td>132</td>\n",
       "    </tr>\n",
       "    <tr>\n",
       "      <th>3</th>\n",
       "      <td>129</td>\n",
       "    </tr>\n",
       "    <tr>\n",
       "      <th>4</th>\n",
       "      <td>121</td>\n",
       "    </tr>\n",
       "  </tbody>\n",
       "</table>\n",
       "</div>"
      ],
      "text/plain": [
       "   #Passengers\n",
       "0          112\n",
       "1          118\n",
       "2          132\n",
       "3          129\n",
       "4          121"
      ]
     },
     "execution_count": 7,
     "metadata": {},
     "output_type": "execute_result"
    }
   ],
   "source": [
    "dataset=data.drop(columns='Month')\n",
    "dataset[:5]"
   ]
  },
  {
   "cell_type": "code",
   "execution_count": 8,
   "id": "254e5483",
   "metadata": {},
   "outputs": [],
   "source": [
    "dataset = dataset.astype('float32')"
   ]
  },
  {
   "cell_type": "code",
   "execution_count": 9,
   "id": "11baf526",
   "metadata": {},
   "outputs": [],
   "source": [
    "#Define function to split a univariate sequence\n",
    "def split_sequence(sequence,n_steps):\n",
    "    x,y =list(), list()\n",
    "    for i in range(len(sequence)):\n",
    "        #find the end of this pattern\n",
    "        end_ix = i + n_steps\n",
    "        #Check if we are beyond the sequence\n",
    "        if end_ix > len(sequence)-1:\n",
    "            break\n",
    "        #gather input and output parts of the pattern\n",
    "        seq_x, seq_y = sequence[i:end_ix], sequence[end_ix]\n",
    "        x.append(seq_x)\n",
    "        y.append(seq_y)\n",
    "    return np.array(x), np.array(y)"
   ]
  },
  {
   "cell_type": "code",
   "execution_count": 10,
   "id": "2f97c313",
   "metadata": {},
   "outputs": [],
   "source": [
    "scaler = MinMaxScaler(feature_range=(0,1))\n",
    "dataset = scaler.fit_transform(dataset)"
   ]
  },
  {
   "cell_type": "code",
   "execution_count": 11,
   "id": "cd714b0b",
   "metadata": {},
   "outputs": [
    {
     "name": "stdout",
     "output_type": "stream",
     "text": [
      "96 48\n"
     ]
    }
   ],
   "source": [
    "train_size = int(len(dataset) * 0.67)\n",
    "train, test = dataset[0:train_size,:], dataset[train_size:len(dataset),:]\n",
    "print(len(train), len(test))"
   ]
  },
  {
   "cell_type": "code",
   "execution_count": 12,
   "id": "9ae58203",
   "metadata": {},
   "outputs": [],
   "source": [
    "n_steps = 12\n",
    "x_train,y_train = split_sequence(train, n_steps)\n",
    "x_test, y_test = split_sequence(test, n_steps)"
   ]
  },
  {
   "cell_type": "code",
   "execution_count": 13,
   "id": "dafaa8e6",
   "metadata": {},
   "outputs": [
    {
     "data": {
      "text/plain": [
       "array([[[0.01544401],\n",
       "        [0.02702703],\n",
       "        [0.05405405],\n",
       "        [0.04826255],\n",
       "        [0.03281853],\n",
       "        [0.05984557],\n",
       "        [0.08494207],\n",
       "        [0.08494207],\n",
       "        [0.06177607],\n",
       "        [0.02895753],\n",
       "        [0.        ],\n",
       "        [0.02702703]],\n",
       "\n",
       "       [[0.02702703],\n",
       "        [0.05405405],\n",
       "        [0.04826255],\n",
       "        [0.03281853],\n",
       "        [0.05984557],\n",
       "        [0.08494207],\n",
       "        [0.08494207],\n",
       "        [0.06177607],\n",
       "        [0.02895753],\n",
       "        [0.        ],\n",
       "        [0.02702703],\n",
       "        [0.02123553]],\n",
       "\n",
       "       [[0.05405405],\n",
       "        [0.04826255],\n",
       "        [0.03281853],\n",
       "        [0.05984557],\n",
       "        [0.08494207],\n",
       "        [0.08494207],\n",
       "        [0.06177607],\n",
       "        [0.02895753],\n",
       "        [0.        ],\n",
       "        [0.02702703],\n",
       "        [0.02123553],\n",
       "        [0.04247104]]], dtype=float32)"
      ]
     },
     "execution_count": 13,
     "metadata": {},
     "output_type": "execute_result"
    }
   ],
   "source": [
    "x_train[:3]"
   ]
  },
  {
   "cell_type": "code",
   "execution_count": 14,
   "id": "f4f03713",
   "metadata": {},
   "outputs": [
    {
     "data": {
      "text/plain": [
       "array([[0.02123553],\n",
       "       [0.04247104],\n",
       "       [0.07142857]], dtype=float32)"
      ]
     },
     "execution_count": 14,
     "metadata": {},
     "output_type": "execute_result"
    }
   ],
   "source": [
    "y_train[:3]"
   ]
  },
  {
   "cell_type": "code",
   "execution_count": 15,
   "id": "b91cded1",
   "metadata": {},
   "outputs": [],
   "source": [
    "n_features = 1\n",
    "x_train = x_train.reshape((x_train.shape[0], x_train.shape[1], n_features))\n",
    "x_test = x_test.reshape((x_test.shape[0],x_test.shape[1], n_features))\n"
   ]
  },
  {
   "cell_type": "code",
   "execution_count": 16,
   "id": "3f06cc15",
   "metadata": {},
   "outputs": [
    {
     "name": "stdout",
     "output_type": "stream",
     "text": [
      "WARNING:tensorflow:From C:\\Users\\User\\anaconda\\envs\\mbdiploma\\Lib\\site-packages\\keras\\src\\backend.py:873: The name tf.get_default_graph is deprecated. Please use tf.compat.v1.get_default_graph instead.\n",
      "\n",
      "WARNING:tensorflow:From C:\\Users\\User\\anaconda\\envs\\mbdiploma\\Lib\\site-packages\\keras\\src\\optimizers\\__init__.py:309: The name tf.train.Optimizer is deprecated. Please use tf.compat.v1.train.Optimizer instead.\n",
      "\n",
      "Model: \"sequential\"\n",
      "_________________________________________________________________\n",
      " Layer (type)                Output Shape              Param #   \n",
      "=================================================================\n",
      " lstm (LSTM)                 (None, 12, 50)            10400     \n",
      "                                                                 \n",
      " lstm_1 (LSTM)               (None, 50)                20200     \n",
      "                                                                 \n",
      " dense (Dense)               (None, 1)                 51        \n",
      "                                                                 \n",
      "=================================================================\n",
      "Total params: 30651 (119.73 KB)\n",
      "Trainable params: 30651 (119.73 KB)\n",
      "Non-trainable params: 0 (0.00 Byte)\n",
      "_________________________________________________________________\n"
     ]
    }
   ],
   "source": [
    "model = Sequential()\n",
    "model.add(LSTM(50,activation = 'relu', return_sequences = True, input_shape = (n_steps, n_features)))\n",
    "model.add(LSTM(50,activation = 'relu'))\n",
    "model.add(Dense(1))\n",
    "model.compile(optimizer = 'adam', loss = 'mse')\n",
    "model.summary()"
   ]
  },
  {
   "cell_type": "code",
   "execution_count": 17,
   "id": "c84b795b",
   "metadata": {},
   "outputs": [
    {
     "name": "stdout",
     "output_type": "stream",
     "text": [
      "Epoch 1/200\n",
      "WARNING:tensorflow:From C:\\Users\\User\\anaconda\\envs\\mbdiploma\\Lib\\site-packages\\keras\\src\\utils\\tf_utils.py:492: The name tf.ragged.RaggedTensorValue is deprecated. Please use tf.compat.v1.ragged.RaggedTensorValue instead.\n",
      "\n",
      "3/3 [==============================] - 2s 10ms/step - loss: 0.0753\n",
      "Epoch 2/200\n",
      "3/3 [==============================] - 0s 9ms/step - loss: 0.0651\n",
      "Epoch 3/200\n",
      "3/3 [==============================] - 0s 9ms/step - loss: 0.0570\n",
      "Epoch 4/200\n",
      "3/3 [==============================] - 0s 8ms/step - loss: 0.0488\n",
      "Epoch 5/200\n",
      "3/3 [==============================] - 0s 8ms/step - loss: 0.0408\n",
      "Epoch 6/200\n",
      "3/3 [==============================] - 0s 8ms/step - loss: 0.0325\n",
      "Epoch 7/200\n",
      "3/3 [==============================] - 0s 9ms/step - loss: 0.0230\n",
      "Epoch 8/200\n",
      "3/3 [==============================] - 0s 8ms/step - loss: 0.0146\n",
      "Epoch 9/200\n",
      "3/3 [==============================] - 0s 8ms/step - loss: 0.0099\n",
      "Epoch 10/200\n",
      "3/3 [==============================] - 0s 8ms/step - loss: 0.0114\n",
      "Epoch 11/200\n",
      "3/3 [==============================] - 0s 9ms/step - loss: 0.0121\n",
      "Epoch 12/200\n",
      "3/3 [==============================] - 0s 9ms/step - loss: 0.0092\n",
      "Epoch 13/200\n",
      "3/3 [==============================] - 0s 9ms/step - loss: 0.0079\n",
      "Epoch 14/200\n",
      "3/3 [==============================] - 0s 9ms/step - loss: 0.0083\n",
      "Epoch 15/200\n",
      "3/3 [==============================] - 0s 8ms/step - loss: 0.0078\n",
      "Epoch 16/200\n",
      "3/3 [==============================] - 0s 9ms/step - loss: 0.0069\n",
      "Epoch 17/200\n",
      "3/3 [==============================] - 0s 9ms/step - loss: 0.0065\n",
      "Epoch 18/200\n",
      "3/3 [==============================] - 0s 9ms/step - loss: 0.0060\n",
      "Epoch 19/200\n",
      "3/3 [==============================] - 0s 9ms/step - loss: 0.0054\n",
      "Epoch 20/200\n",
      "3/3 [==============================] - 0s 9ms/step - loss: 0.0051\n",
      "Epoch 21/200\n",
      "3/3 [==============================] - 0s 8ms/step - loss: 0.0049\n",
      "Epoch 22/200\n",
      "3/3 [==============================] - 0s 8ms/step - loss: 0.0045\n",
      "Epoch 23/200\n",
      "3/3 [==============================] - 0s 8ms/step - loss: 0.0043\n",
      "Epoch 24/200\n",
      "3/3 [==============================] - 0s 8ms/step - loss: 0.0043\n",
      "Epoch 25/200\n",
      "3/3 [==============================] - 0s 8ms/step - loss: 0.0043\n",
      "Epoch 26/200\n",
      "3/3 [==============================] - 0s 8ms/step - loss: 0.0042\n",
      "Epoch 27/200\n",
      "3/3 [==============================] - 0s 8ms/step - loss: 0.0042\n",
      "Epoch 28/200\n",
      "3/3 [==============================] - 0s 9ms/step - loss: 0.0042\n",
      "Epoch 29/200\n",
      "3/3 [==============================] - 0s 9ms/step - loss: 0.0041\n",
      "Epoch 30/200\n",
      "3/3 [==============================] - 0s 9ms/step - loss: 0.0041\n",
      "Epoch 31/200\n",
      "3/3 [==============================] - 0s 9ms/step - loss: 0.0042\n",
      "Epoch 32/200\n",
      "3/3 [==============================] - 0s 9ms/step - loss: 0.0041\n",
      "Epoch 33/200\n",
      "3/3 [==============================] - 0s 8ms/step - loss: 0.0040\n",
      "Epoch 34/200\n",
      "3/3 [==============================] - 0s 8ms/step - loss: 0.0040\n",
      "Epoch 35/200\n",
      "3/3 [==============================] - 0s 8ms/step - loss: 0.0041\n",
      "Epoch 36/200\n",
      "3/3 [==============================] - 0s 8ms/step - loss: 0.0040\n",
      "Epoch 37/200\n",
      "3/3 [==============================] - 0s 9ms/step - loss: 0.0039\n",
      "Epoch 38/200\n",
      "3/3 [==============================] - 0s 8ms/step - loss: 0.0039\n",
      "Epoch 39/200\n",
      "3/3 [==============================] - 0s 8ms/step - loss: 0.0039\n",
      "Epoch 40/200\n",
      "3/3 [==============================] - 0s 8ms/step - loss: 0.0039\n",
      "Epoch 41/200\n",
      "3/3 [==============================] - 0s 8ms/step - loss: 0.0039\n",
      "Epoch 42/200\n",
      "3/3 [==============================] - 0s 9ms/step - loss: 0.0038\n",
      "Epoch 43/200\n",
      "3/3 [==============================] - 0s 8ms/step - loss: 0.0038\n",
      "Epoch 44/200\n",
      "3/3 [==============================] - 0s 8ms/step - loss: 0.0039\n",
      "Epoch 45/200\n",
      "3/3 [==============================] - 0s 9ms/step - loss: 0.0038\n",
      "Epoch 46/200\n",
      "3/3 [==============================] - 0s 9ms/step - loss: 0.0039\n",
      "Epoch 47/200\n",
      "3/3 [==============================] - 0s 9ms/step - loss: 0.0038\n",
      "Epoch 48/200\n",
      "3/3 [==============================] - 0s 8ms/step - loss: 0.0038\n",
      "Epoch 49/200\n",
      "3/3 [==============================] - 0s 8ms/step - loss: 0.0039\n",
      "Epoch 50/200\n",
      "3/3 [==============================] - 0s 8ms/step - loss: 0.0037\n",
      "Epoch 51/200\n",
      "3/3 [==============================] - 0s 8ms/step - loss: 0.0038\n",
      "Epoch 52/200\n",
      "3/3 [==============================] - 0s 8ms/step - loss: 0.0036\n",
      "Epoch 53/200\n",
      "3/3 [==============================] - 0s 7ms/step - loss: 0.0037\n",
      "Epoch 54/200\n",
      "3/3 [==============================] - 0s 8ms/step - loss: 0.0037\n",
      "Epoch 55/200\n",
      "3/3 [==============================] - 0s 8ms/step - loss: 0.0036\n",
      "Epoch 56/200\n",
      "3/3 [==============================] - 0s 8ms/step - loss: 0.0036\n",
      "Epoch 57/200\n",
      "3/3 [==============================] - 0s 8ms/step - loss: 0.0036\n",
      "Epoch 58/200\n",
      "3/3 [==============================] - 0s 8ms/step - loss: 0.0036\n",
      "Epoch 59/200\n",
      "3/3 [==============================] - 0s 7ms/step - loss: 0.0037\n",
      "Epoch 60/200\n",
      "3/3 [==============================] - 0s 8ms/step - loss: 0.0036\n",
      "Epoch 61/200\n",
      "3/3 [==============================] - 0s 8ms/step - loss: 0.0035\n",
      "Epoch 62/200\n",
      "3/3 [==============================] - 0s 8ms/step - loss: 0.0035\n",
      "Epoch 63/200\n",
      "3/3 [==============================] - 0s 7ms/step - loss: 0.0035\n",
      "Epoch 64/200\n",
      "3/3 [==============================] - 0s 7ms/step - loss: 0.0035\n",
      "Epoch 65/200\n",
      "3/3 [==============================] - 0s 7ms/step - loss: 0.0035\n",
      "Epoch 66/200\n",
      "3/3 [==============================] - 0s 8ms/step - loss: 0.0034\n",
      "Epoch 67/200\n",
      "3/3 [==============================] - 0s 8ms/step - loss: 0.0035\n",
      "Epoch 68/200\n",
      "3/3 [==============================] - 0s 7ms/step - loss: 0.0034\n",
      "Epoch 69/200\n",
      "3/3 [==============================] - 0s 8ms/step - loss: 0.0034\n",
      "Epoch 70/200\n",
      "3/3 [==============================] - 0s 7ms/step - loss: 0.0033\n",
      "Epoch 71/200\n",
      "3/3 [==============================] - 0s 8ms/step - loss: 0.0033\n",
      "Epoch 72/200\n",
      "3/3 [==============================] - 0s 8ms/step - loss: 0.0032\n",
      "Epoch 73/200\n",
      "3/3 [==============================] - 0s 8ms/step - loss: 0.0033\n",
      "Epoch 74/200\n",
      "3/3 [==============================] - 0s 7ms/step - loss: 0.0033\n",
      "Epoch 75/200\n",
      "3/3 [==============================] - 0s 8ms/step - loss: 0.0033\n",
      "Epoch 76/200\n",
      "3/3 [==============================] - 0s 8ms/step - loss: 0.0032\n",
      "Epoch 77/200\n",
      "3/3 [==============================] - 0s 7ms/step - loss: 0.0031\n",
      "Epoch 78/200\n",
      "3/3 [==============================] - 0s 7ms/step - loss: 0.0031\n",
      "Epoch 79/200\n",
      "3/3 [==============================] - 0s 8ms/step - loss: 0.0031\n",
      "Epoch 80/200\n",
      "3/3 [==============================] - 0s 7ms/step - loss: 0.0031\n",
      "Epoch 81/200\n",
      "3/3 [==============================] - 0s 8ms/step - loss: 0.0031\n",
      "Epoch 82/200\n",
      "3/3 [==============================] - 0s 8ms/step - loss: 0.0031\n",
      "Epoch 83/200\n",
      "3/3 [==============================] - 0s 8ms/step - loss: 0.0031\n",
      "Epoch 84/200\n",
      "3/3 [==============================] - 0s 7ms/step - loss: 0.0029\n",
      "Epoch 85/200\n",
      "3/3 [==============================] - 0s 8ms/step - loss: 0.0030\n",
      "Epoch 86/200\n",
      "3/3 [==============================] - 0s 7ms/step - loss: 0.0028\n",
      "Epoch 87/200\n",
      "3/3 [==============================] - 0s 8ms/step - loss: 0.0030\n",
      "Epoch 88/200\n",
      "3/3 [==============================] - 0s 8ms/step - loss: 0.0028\n",
      "Epoch 89/200\n",
      "3/3 [==============================] - 0s 8ms/step - loss: 0.0029\n",
      "Epoch 90/200\n",
      "3/3 [==============================] - 0s 8ms/step - loss: 0.0027\n",
      "Epoch 91/200\n",
      "3/3 [==============================] - 0s 8ms/step - loss: 0.0027\n",
      "Epoch 92/200\n",
      "3/3 [==============================] - 0s 8ms/step - loss: 0.0026\n",
      "Epoch 93/200\n",
      "3/3 [==============================] - 0s 8ms/step - loss: 0.0026\n",
      "Epoch 94/200\n",
      "3/3 [==============================] - 0s 8ms/step - loss: 0.0025\n",
      "Epoch 95/200\n",
      "3/3 [==============================] - 0s 7ms/step - loss: 0.0025\n",
      "Epoch 96/200\n",
      "3/3 [==============================] - 0s 8ms/step - loss: 0.0024\n",
      "Epoch 97/200\n",
      "3/3 [==============================] - 0s 8ms/step - loss: 0.0023\n",
      "Epoch 98/200\n",
      "3/3 [==============================] - 0s 8ms/step - loss: 0.0024\n",
      "Epoch 99/200\n",
      "3/3 [==============================] - 0s 8ms/step - loss: 0.0023\n",
      "Epoch 100/200\n",
      "3/3 [==============================] - 0s 9ms/step - loss: 0.0024\n",
      "Epoch 101/200\n",
      "3/3 [==============================] - 0s 8ms/step - loss: 0.0023\n"
     ]
    },
    {
     "name": "stdout",
     "output_type": "stream",
     "text": [
      "Epoch 102/200\n",
      "3/3 [==============================] - 0s 8ms/step - loss: 0.0022\n",
      "Epoch 103/200\n",
      "3/3 [==============================] - 0s 8ms/step - loss: 0.0025\n",
      "Epoch 104/200\n",
      "3/3 [==============================] - 0s 8ms/step - loss: 0.0023\n",
      "Epoch 105/200\n",
      "3/3 [==============================] - 0s 8ms/step - loss: 0.0023\n",
      "Epoch 106/200\n",
      "3/3 [==============================] - 0s 8ms/step - loss: 0.0021\n",
      "Epoch 107/200\n",
      "3/3 [==============================] - 0s 8ms/step - loss: 0.0021\n",
      "Epoch 108/200\n",
      "3/3 [==============================] - 0s 7ms/step - loss: 0.0020\n",
      "Epoch 109/200\n",
      "3/3 [==============================] - 0s 8ms/step - loss: 0.0022\n",
      "Epoch 110/200\n",
      "3/3 [==============================] - 0s 7ms/step - loss: 0.0021\n",
      "Epoch 111/200\n",
      "3/3 [==============================] - 0s 8ms/step - loss: 0.0018\n",
      "Epoch 112/200\n",
      "3/3 [==============================] - 0s 8ms/step - loss: 0.0022\n",
      "Epoch 113/200\n",
      "3/3 [==============================] - 0s 8ms/step - loss: 0.0018\n",
      "Epoch 114/200\n",
      "3/3 [==============================] - 0s 8ms/step - loss: 0.0017\n",
      "Epoch 115/200\n",
      "3/3 [==============================] - 0s 7ms/step - loss: 0.0017\n",
      "Epoch 116/200\n",
      "3/3 [==============================] - 0s 8ms/step - loss: 0.0016\n",
      "Epoch 117/200\n",
      "3/3 [==============================] - 0s 8ms/step - loss: 0.0016\n",
      "Epoch 118/200\n",
      "3/3 [==============================] - 0s 8ms/step - loss: 0.0016\n",
      "Epoch 119/200\n",
      "3/3 [==============================] - 0s 8ms/step - loss: 0.0015\n",
      "Epoch 120/200\n",
      "3/3 [==============================] - 0s 8ms/step - loss: 0.0018\n",
      "Epoch 121/200\n",
      "3/3 [==============================] - 0s 8ms/step - loss: 0.0016\n",
      "Epoch 122/200\n",
      "3/3 [==============================] - 0s 8ms/step - loss: 0.0015\n",
      "Epoch 123/200\n",
      "3/3 [==============================] - 0s 8ms/step - loss: 0.0017\n",
      "Epoch 124/200\n",
      "3/3 [==============================] - 0s 8ms/step - loss: 0.0014\n",
      "Epoch 125/200\n",
      "3/3 [==============================] - 0s 8ms/step - loss: 0.0014\n",
      "Epoch 126/200\n",
      "3/3 [==============================] - 0s 8ms/step - loss: 0.0013\n",
      "Epoch 127/200\n",
      "3/3 [==============================] - 0s 8ms/step - loss: 0.0014\n",
      "Epoch 128/200\n",
      "3/3 [==============================] - 0s 8ms/step - loss: 0.0013\n",
      "Epoch 129/200\n",
      "3/3 [==============================] - 0s 8ms/step - loss: 0.0013\n",
      "Epoch 130/200\n",
      "3/3 [==============================] - 0s 8ms/step - loss: 0.0013\n",
      "Epoch 131/200\n",
      "3/3 [==============================] - 0s 8ms/step - loss: 0.0014\n",
      "Epoch 132/200\n",
      "3/3 [==============================] - 0s 8ms/step - loss: 0.0012\n",
      "Epoch 133/200\n",
      "3/3 [==============================] - 0s 7ms/step - loss: 0.0011\n",
      "Epoch 134/200\n",
      "3/3 [==============================] - 0s 7ms/step - loss: 0.0012\n",
      "Epoch 135/200\n",
      "3/3 [==============================] - 0s 8ms/step - loss: 0.0012\n",
      "Epoch 136/200\n",
      "3/3 [==============================] - 0s 8ms/step - loss: 0.0012\n",
      "Epoch 137/200\n",
      "3/3 [==============================] - 0s 7ms/step - loss: 0.0013\n",
      "Epoch 138/200\n",
      "3/3 [==============================] - 0s 8ms/step - loss: 0.0011\n",
      "Epoch 139/200\n",
      "3/3 [==============================] - 0s 7ms/step - loss: 0.0011\n",
      "Epoch 140/200\n",
      "3/3 [==============================] - 0s 7ms/step - loss: 0.0010\n",
      "Epoch 141/200\n",
      "3/3 [==============================] - 0s 7ms/step - loss: 0.0010\n",
      "Epoch 142/200\n",
      "3/3 [==============================] - 0s 7ms/step - loss: 0.0010\n",
      "Epoch 143/200\n",
      "3/3 [==============================] - 0s 7ms/step - loss: 0.0011\n",
      "Epoch 144/200\n",
      "3/3 [==============================] - 0s 7ms/step - loss: 0.0011\n",
      "Epoch 145/200\n",
      "3/3 [==============================] - 0s 8ms/step - loss: 9.8649e-04\n",
      "Epoch 146/200\n",
      "3/3 [==============================] - 0s 7ms/step - loss: 9.3469e-04\n",
      "Epoch 147/200\n",
      "3/3 [==============================] - 0s 7ms/step - loss: 9.4828e-04\n",
      "Epoch 148/200\n",
      "3/3 [==============================] - 0s 8ms/step - loss: 9.6501e-04\n",
      "Epoch 149/200\n",
      "3/3 [==============================] - 0s 8ms/step - loss: 9.8314e-04\n",
      "Epoch 150/200\n",
      "3/3 [==============================] - 0s 8ms/step - loss: 0.0010\n",
      "Epoch 151/200\n",
      "3/3 [==============================] - 0s 8ms/step - loss: 9.5937e-04\n",
      "Epoch 152/200\n",
      "3/3 [==============================] - 0s 8ms/step - loss: 9.5098e-04\n",
      "Epoch 153/200\n",
      "3/3 [==============================] - 0s 8ms/step - loss: 8.8198e-04\n",
      "Epoch 154/200\n",
      "3/3 [==============================] - 0s 7ms/step - loss: 0.0011\n",
      "Epoch 155/200\n",
      "3/3 [==============================] - 0s 7ms/step - loss: 9.2246e-04\n",
      "Epoch 156/200\n",
      "3/3 [==============================] - 0s 8ms/step - loss: 9.9329e-04\n",
      "Epoch 157/200\n",
      "3/3 [==============================] - 0s 7ms/step - loss: 0.0011\n",
      "Epoch 158/200\n",
      "3/3 [==============================] - 0s 7ms/step - loss: 9.8057e-04\n",
      "Epoch 159/200\n",
      "3/3 [==============================] - 0s 7ms/step - loss: 8.5365e-04\n",
      "Epoch 160/200\n",
      "3/3 [==============================] - 0s 8ms/step - loss: 8.8862e-04\n",
      "Epoch 161/200\n",
      "3/3 [==============================] - 0s 8ms/step - loss: 8.7557e-04\n",
      "Epoch 162/200\n",
      "3/3 [==============================] - 0s 7ms/step - loss: 9.5757e-04\n",
      "Epoch 163/200\n",
      "3/3 [==============================] - 0s 8ms/step - loss: 8.0534e-04\n",
      "Epoch 164/200\n",
      "3/3 [==============================] - 0s 7ms/step - loss: 8.2892e-04\n",
      "Epoch 165/200\n",
      "3/3 [==============================] - 0s 7ms/step - loss: 8.7418e-04\n",
      "Epoch 166/200\n",
      "3/3 [==============================] - 0s 8ms/step - loss: 8.0067e-04\n",
      "Epoch 167/200\n",
      "3/3 [==============================] - 0s 8ms/step - loss: 8.4547e-04\n",
      "Epoch 168/200\n",
      "3/3 [==============================] - 0s 8ms/step - loss: 7.9720e-04\n",
      "Epoch 169/200\n",
      "3/3 [==============================] - 0s 8ms/step - loss: 7.8513e-04\n",
      "Epoch 170/200\n",
      "3/3 [==============================] - 0s 8ms/step - loss: 8.1486e-04\n",
      "Epoch 171/200\n",
      "3/3 [==============================] - 0s 8ms/step - loss: 8.6852e-04\n",
      "Epoch 172/200\n",
      "3/3 [==============================] - 0s 7ms/step - loss: 8.8214e-04\n",
      "Epoch 173/200\n",
      "3/3 [==============================] - 0s 7ms/step - loss: 9.9667e-04\n",
      "Epoch 174/200\n",
      "3/3 [==============================] - 0s 7ms/step - loss: 0.0014\n",
      "Epoch 175/200\n",
      "3/3 [==============================] - 0s 7ms/step - loss: 0.0015\n",
      "Epoch 176/200\n",
      "3/3 [==============================] - 0s 8ms/step - loss: 0.0016\n",
      "Epoch 177/200\n",
      "3/3 [==============================] - 0s 7ms/step - loss: 0.0014\n",
      "Epoch 178/200\n",
      "3/3 [==============================] - 0s 8ms/step - loss: 0.0011\n",
      "Epoch 179/200\n",
      "3/3 [==============================] - 0s 8ms/step - loss: 0.0011\n",
      "Epoch 180/200\n",
      "3/3 [==============================] - 0s 7ms/step - loss: 0.0010\n",
      "Epoch 181/200\n",
      "3/3 [==============================] - 0s 7ms/step - loss: 8.8340e-04\n",
      "Epoch 182/200\n",
      "3/3 [==============================] - 0s 8ms/step - loss: 7.7114e-04\n",
      "Epoch 183/200\n",
      "3/3 [==============================] - 0s 8ms/step - loss: 7.1765e-04\n",
      "Epoch 184/200\n",
      "3/3 [==============================] - 0s 7ms/step - loss: 7.3493e-04\n",
      "Epoch 185/200\n",
      "3/3 [==============================] - 0s 8ms/step - loss: 7.3374e-04\n",
      "Epoch 186/200\n",
      "3/3 [==============================] - 0s 8ms/step - loss: 7.6709e-04\n",
      "Epoch 187/200\n",
      "3/3 [==============================] - 0s 8ms/step - loss: 7.4977e-04\n",
      "Epoch 188/200\n",
      "3/3 [==============================] - 0s 8ms/step - loss: 7.3771e-04\n",
      "Epoch 189/200\n",
      "3/3 [==============================] - 0s 8ms/step - loss: 7.1834e-04\n",
      "Epoch 190/200\n",
      "3/3 [==============================] - 0s 8ms/step - loss: 7.0519e-04\n",
      "Epoch 191/200\n",
      "3/3 [==============================] - 0s 8ms/step - loss: 6.8715e-04\n",
      "Epoch 192/200\n",
      "3/3 [==============================] - 0s 7ms/step - loss: 7.2988e-04\n",
      "Epoch 193/200\n",
      "3/3 [==============================] - 0s 7ms/step - loss: 7.9000e-04\n",
      "Epoch 194/200\n",
      "3/3 [==============================] - 0s 8ms/step - loss: 6.8118e-04\n",
      "Epoch 195/200\n",
      "3/3 [==============================] - 0s 7ms/step - loss: 6.5310e-04\n",
      "Epoch 196/200\n",
      "3/3 [==============================] - 0s 8ms/step - loss: 7.4472e-04\n",
      "Epoch 197/200\n",
      "3/3 [==============================] - 0s 7ms/step - loss: 6.8493e-04\n",
      "Epoch 198/200\n",
      "3/3 [==============================] - 0s 8ms/step - loss: 6.6814e-04\n",
      "Epoch 199/200\n",
      "3/3 [==============================] - 0s 7ms/step - loss: 6.4932e-04\n",
      "Epoch 200/200\n",
      "3/3 [==============================] - 0s 7ms/step - loss: 6.4930e-04\n"
     ]
    },
    {
     "data": {
      "text/plain": [
       "<keras.src.callbacks.History at 0x1fe02f390d0>"
      ]
     },
     "execution_count": 17,
     "metadata": {},
     "output_type": "execute_result"
    }
   ],
   "source": [
    "model.fit(x_train,y_train,epochs=200,verbose=1)"
   ]
  },
  {
   "cell_type": "code",
   "execution_count": 18,
   "id": "342af7ca",
   "metadata": {},
   "outputs": [
    {
     "name": "stdout",
     "output_type": "stream",
     "text": [
      "3/3 [==============================] - 0s 4ms/step\n",
      "2/2 [==============================] - 0s 4ms/step\n"
     ]
    }
   ],
   "source": [
    "#make predictions\n",
    "trainPredict = model.predict(x_train)\n",
    "testPredict = model.predict(x_test)"
   ]
  },
  {
   "cell_type": "code",
   "execution_count": 19,
   "id": "91348852",
   "metadata": {},
   "outputs": [],
   "source": [
    "#rescale the data\n",
    "trainPredict = scaler.inverse_transform(trainPredict)\n",
    "trainY = scaler.inverse_transform(y_train)\n",
    "testPredict = scaler.inverse_transform(testPredict)\n",
    "testY = scaler.inverse_transform(y_test)"
   ]
  },
  {
   "cell_type": "code",
   "execution_count": 20,
   "id": "38f73c1d",
   "metadata": {},
   "outputs": [
    {
     "data": {
      "image/png": "[encoded data removed]",
      "text/plain": [
       "<Figure size 640x480 with 1 Axes>"
      ]
     },
     "metadata": {},
     "output_type": "display_data"
    }
   ],
   "source": [
    "#shift train predictions for plottiing\n",
    "trainPredictPlot = np.empty_like(dataset)\n",
    "trainPredictPlot[:, :] = np.nan\n",
    "trainPredictPlot[n_steps:len(trainPredict)+n_steps, :] = trainPredict\n",
    "\n",
    "#shift test predictions for plotting\n",
    "testPredictPlot = np.empty_like(dataset)\n",
    "testPredictPlot[:, :] = np.nan\n",
    "testPredictPlot[len(trainPredict)+(n_steps*2)-1:len(dataset)-1, :] = testPredict\n",
    "\n",
    "#plot baseline and predictions\n",
    "plt.plot(scaler.inverse_transform(dataset))\n",
    "plt.plot(trainPredictPlot)\n",
    "plt.plot(testPredictPlot)\n",
    "plt.show()"
   ]
  },
  {
   "cell_type": "code",
   "execution_count": 21,
   "id": "06f5ff46",
   "metadata": {},
   "outputs": [
    {
     "data": {
      "text/plain": [
       "(48, 1)"
      ]
     },
     "execution_count": 21,
     "metadata": {},
     "output_type": "execute_result"
    }
   ],
   "source": [
    "test.shape"
   ]
  },
  {
   "cell_type": "code",
   "execution_count": 22,
   "id": "9905f543",
   "metadata": {},
   "outputs": [
    {
     "data": {
      "text/plain": [
       "array([[0.6042471 ],\n",
       "       [0.554054  ],\n",
       "       [0.60810804],\n",
       "       [0.6891892 ],\n",
       "       [0.71042466],\n",
       "       [0.8320464 ],\n",
       "       [1.        ],\n",
       "       [0.96911204],\n",
       "       [0.7799227 ],\n",
       "       [0.6891892 ],\n",
       "       [0.55212355],\n",
       "       [0.6332046 ]], dtype=float32)"
      ]
     },
     "execution_count": 22,
     "metadata": {},
     "output_type": "execute_result"
    }
   ],
   "source": [
    "x_input=test[36:]\n",
    "x_input"
   ]
  },
  {
   "cell_type": "code",
   "execution_count": 23,
   "id": "4d957900",
   "metadata": {},
   "outputs": [],
   "source": [
    "x_input = x_input.reshape(1,-1)"
   ]
  },
  {
   "cell_type": "code",
   "execution_count": 32,
   "id": "ef66d593",
   "metadata": {},
   "outputs": [
    {
     "name": "stdout",
     "output_type": "stream",
     "text": [
      "1/1 [==============================] - 0s 30ms/step\n"
     ]
    }
   ],
   "source": [
    "from keras.layers import LSTM, Input\n",
    "\n",
    "future=model.predict(x_input)"
   ]
  },
  {
   "cell_type": "code",
   "execution_count": 33,
   "id": "45067dba",
   "metadata": {},
   "outputs": [
    {
     "data": {
      "text/plain": [
       "array([[416.99997, 390.99997, 418.99997, 461.     , 471.99997, 535.     ,\n",
       "        622.     , 606.     , 507.99997, 461.     , 390.     , 431.99997]],\n",
       "      dtype=float32)"
      ]
     },
     "execution_count": 33,
     "metadata": {},
     "output_type": "execute_result"
    }
   ],
   "source": [
    "scaler.inverse_transform(future)"
   ]
  },
  {
   "cell_type": "code",
   "execution_count": 39,
   "id": "60fdb701",
   "metadata": {},
   "outputs": [],
   "source": [
    "temp_input = list(x_input)\n",
    "temp_input = temp_input[0].tolist()"
   ]
  },
  {
   "cell_type": "code",
   "execution_count": 42,
   "id": "7e4a345a",
   "metadata": {},
   "outputs": [
    {
     "ename": "ValueError",
     "evalue": "cannot reshape array of size 1 into shape (1,12,1)",
     "output_type": "error",
     "traceback": [
      "\u001b[1;31m---------------------------------------------------------------------------\u001b[0m",
      "\u001b[1;31mValueError\u001b[0m                                Traceback (most recent call last)",
      "Cell \u001b[1;32mIn[42], line 18\u001b[0m\n\u001b[0;32m     16\u001b[0m     i \u001b[38;5;241m=\u001b[39m i \u001b[38;5;241m+\u001b[39m \u001b[38;5;241m1\u001b[39m\n\u001b[0;32m     17\u001b[0m \u001b[38;5;28;01melse\u001b[39;00m:\n\u001b[1;32m---> 18\u001b[0m     x_input \u001b[38;5;241m=\u001b[39m x_input\u001b[38;5;241m.\u001b[39mreshape((\u001b[38;5;241m1\u001b[39m, n_steps, \u001b[38;5;241m1\u001b[39m))\n\u001b[0;32m     19\u001b[0m     yhat \u001b[38;5;241m=\u001b[39m model\u001b[38;5;241m.\u001b[39mpredict(x_input, verbose\u001b[38;5;241m=\u001b[39m\u001b[38;5;241m0\u001b[39m)\n\u001b[0;32m     20\u001b[0m     \u001b[38;5;28mprint\u001b[39m(yhat[\u001b[38;5;241m0\u001b[39m])\n",
      "\u001b[1;31mValueError\u001b[0m: cannot reshape array of size 1 into shape (1,12,1)"
     ]
    }
   ],
   "source": [
    "lst_output = []\n",
    "\n",
    "i = 0\n",
    "while(i<n_steps):\n",
    "    \n",
    "    if(len(temp_input)>n_steps):\n",
    "        x_input = np.array(temp_input[1:])\n",
    "        print(\"{} month output {}\".format(i, yhat))\n",
    "        x_input = x_input.reshape(1,-1)\n",
    "        x_input = x_input.reshape((1, n_steps, 1))\n",
    "        yhat = model.predict(x_input,verbose=0)\n",
    "        print(\"{} month output []\".format(i,yhat))\n",
    "        temp_input.extend(yhat[0].tolist())\n",
    "        temp_input = temp_input[1:]\n",
    "        lst_output.extend(yhat.tolist())\n",
    "        i = i + 1\n",
    "    else:\n",
    "        x_input = x_input.reshape((1, n_steps, 1))\n",
    "        yhat = model.predict(x_input, verbose=0)\n",
    "        print(yhat[0])\n",
    "        temp_input.extend(yhat[0].tolist())\n",
    "        lst_output.extend(yhat.tolist())\n",
    "        i = i + 1\n",
    "print(lst_output)      "
   ]
  },
  {
   "cell_type": "code",
   "execution_count": 36,
   "id": "4913e419",
   "metadata": {},
   "outputs": [
    {
     "name": "stdout",
     "output_type": "stream",
     "text": [
      "Array size: 1\n"
     ]
    }
   ],
   "source": [
    "print(\"Array size:\", x_input.size)"
   ]
  },
  {
   "cell_type": "code",
   "execution_count": 37,
   "id": "808e29a0",
   "metadata": {},
   "outputs": [
    {
     "ename": "ValueError",
     "evalue": "cannot reshape array of size 1 into shape (1,12,1)",
     "output_type": "error",
     "traceback": [
      "\u001b[1;31m---------------------------------------------------------------------------\u001b[0m",
      "\u001b[1;31mValueError\u001b[0m                                Traceback (most recent call last)",
      "Cell \u001b[1;32mIn[37], line 1\u001b[0m\n\u001b[1;32m----> 1\u001b[0m x_input \u001b[38;5;241m=\u001b[39m x_input\u001b[38;5;241m.\u001b[39mreshape((\u001b[38;5;241m1\u001b[39m, n_steps, \u001b[38;5;241m1\u001b[39m))\n",
      "\u001b[1;31mValueError\u001b[0m: cannot reshape array of size 1 into shape (1,12,1)"
     ]
    }
   ],
   "source": [
    "x_input = x_input.reshape((1, n_steps, 1))"
   ]
  },
  {
   "cell_type": "code",
   "execution_count": 41,
   "id": "b07d96b6",
   "metadata": {},
   "outputs": [
    {
     "name": "stdout",
     "output_type": "stream",
     "text": [
      "Not enough data for prediction.\n"
     ]
    }
   ],
   "source": [
    "i = 0\n",
    "while i < n_steps:\n",
    "    if len(temp_input) > n_steps:\n",
    "        x_input = np.array(temp_input[1:])\n",
    "        print(\"Month {} input: {}\".format(i, x_input))\n",
    "\n",
    "        # Check if the size is sufficient for reshaping\n",
    "        if x_input.size >= n_steps:\n",
    "            x_input = x_input[:n_steps]  # Trim to n_steps elements if necessary\n",
    "            x_input = x_input.reshape((1, n_steps, 1))\n",
    "            yhat = model.predict(x_input, verbose=0)\n",
    "            print(\"Month {} output: {}\".format(i, yhat[0]))\n",
    "        else:\n",
    "            print(\"Insufficient data for reshaping.\")\n",
    "            # Handle this case based on your requirements\n",
    "\n",
    "        temp_input.append(yhat[0])\n",
    "        i = i + 1\n",
    "    else:\n",
    "        # Handle the case when len(temp_input) <= n_steps\n",
    "        print(\"Not enough data for prediction.\")\n",
    "        break\n"
   ]
  },
  {
   "cell_type": "code",
   "execution_count": 43,
   "id": "3b9faf83",
   "metadata": {},
   "outputs": [
    {
     "ename": "ValueError",
     "evalue": "cannot reshape array of size 1 into shape (1,12,1)",
     "output_type": "error",
     "traceback": [
      "\u001b[1;31m---------------------------------------------------------------------------\u001b[0m",
      "\u001b[1;31mValueError\u001b[0m                                Traceback (most recent call last)",
      "Cell \u001b[1;32mIn[43], line 16\u001b[0m\n\u001b[0;32m     14\u001b[0m     i \u001b[38;5;241m+\u001b[39m\u001b[38;5;241m=\u001b[39m \u001b[38;5;241m1\u001b[39m\n\u001b[0;32m     15\u001b[0m \u001b[38;5;28;01melse\u001b[39;00m:\n\u001b[1;32m---> 16\u001b[0m     x_input \u001b[38;5;241m=\u001b[39m x_input\u001b[38;5;241m.\u001b[39mreshape((\u001b[38;5;241m1\u001b[39m, n_steps, \u001b[38;5;241m1\u001b[39m))\n\u001b[0;32m     17\u001b[0m     yhat \u001b[38;5;241m=\u001b[39m model\u001b[38;5;241m.\u001b[39mpredict(x_input, verbose\u001b[38;5;241m=\u001b[39m\u001b[38;5;241m0\u001b[39m)\n\u001b[0;32m     18\u001b[0m     \u001b[38;5;28mprint\u001b[39m(\u001b[38;5;124m\"\u001b[39m\u001b[38;5;132;01m{}\u001b[39;00m\u001b[38;5;124m month output \u001b[39m\u001b[38;5;132;01m{}\u001b[39;00m\u001b[38;5;124m\"\u001b[39m\u001b[38;5;241m.\u001b[39mformat(i, yhat[\u001b[38;5;241m0\u001b[39m]))\n",
      "\u001b[1;31mValueError\u001b[0m: cannot reshape array of size 1 into shape (1,12,1)"
     ]
    }
   ],
   "source": [
    "lst_output = []\n",
    "\n",
    "i = 0\n",
    "while i < n_steps:\n",
    "    if len(temp_input) > n_steps:\n",
    "        x_input = np.array(temp_input[1:])\n",
    "        print(\"{} month input {}\".format(i, x_input))\n",
    "        x_input = x_input.reshape((1, n_steps, 1))\n",
    "        yhat = model.predict(x_input, verbose=0)\n",
    "        print(\"{} month output {}\".format(i, yhat[0]))\n",
    "        temp_input.extend(yhat[0].tolist())\n",
    "        temp_input = temp_input[1:]\n",
    "        lst_output.append(yhat.tolist())\n",
    "        i += 1\n",
    "    else:\n",
    "        x_input = x_input.reshape((1, n_steps, 1))\n",
    "        yhat = model.predict(x_input, verbose=0)\n",
    "        print(\"{} month output {}\".format(i, yhat[0]))\n",
    "        temp_input.extend(yhat[0].tolist())\n",
    "        lst_output.append(yhat.tolist())\n",
    "        i += 1\n",
    "\n",
    "print(lst_output)\n"
   ]
  },
  {
   "cell_type": "code",
   "execution_count": 44,
   "id": "92640a10",
   "metadata": {},
   "outputs": [
    {
     "name": "stdout",
     "output_type": "stream",
     "text": [
      "0 month output [[0.6042471]]\n"
     ]
    },
    {
     "ename": "ValueError",
     "evalue": "setting an array element with a sequence. The requested array has an inhomogeneous shape after 1 dimensions. The detected shape was (2,) + inhomogeneous part.",
     "output_type": "error",
     "traceback": [
      "\u001b[1;31m---------------------------------------------------------------------------\u001b[0m",
      "\u001b[1;31mValueError\u001b[0m                                Traceback (most recent call last)",
      "Cell \u001b[1;32mIn[44], line 16\u001b[0m\n\u001b[0;32m     14\u001b[0m     i \u001b[38;5;241m+\u001b[39m\u001b[38;5;241m=\u001b[39m \u001b[38;5;241m1\u001b[39m\n\u001b[0;32m     15\u001b[0m \u001b[38;5;28;01melse\u001b[39;00m:\n\u001b[1;32m---> 16\u001b[0m     x_input \u001b[38;5;241m=\u001b[39m np\u001b[38;5;241m.\u001b[39marray(temp_input)\n\u001b[0;32m     17\u001b[0m     x_input \u001b[38;5;241m=\u001b[39m x_input\u001b[38;5;241m.\u001b[39mreshape((\u001b[38;5;241m1\u001b[39m, \u001b[38;5;28mlen\u001b[39m(temp_input), \u001b[38;5;241m1\u001b[39m))  \u001b[38;5;66;03m# Adjust the shape based on the length of temp_input\u001b[39;00m\n\u001b[0;32m     18\u001b[0m     yhat \u001b[38;5;241m=\u001b[39m model\u001b[38;5;241m.\u001b[39mpredict(x_input, verbose\u001b[38;5;241m=\u001b[39m\u001b[38;5;241m0\u001b[39m)\n",
      "\u001b[1;31mValueError\u001b[0m: setting an array element with a sequence. The requested array has an inhomogeneous shape after 1 dimensions. The detected shape was (2,) + inhomogeneous part."
     ]
    }
   ],
   "source": [
    "lst_output = []\n",
    "\n",
    "i = 0\n",
    "while i < n_steps:\n",
    "    if len(temp_input) > n_steps:\n",
    "        x_input = np.array(temp_input[1:])\n",
    "        print(\"{} month input {}\".format(i, x_input))\n",
    "        x_input = x_input.reshape((1, n_steps, 1))\n",
    "        yhat = model.predict(x_input, verbose=0)\n",
    "        print(\"{} month output {}\".format(i, yhat[0]))\n",
    "        temp_input.extend(yhat[0].tolist())\n",
    "        temp_input = temp_input[1:]\n",
    "        lst_output.append(yhat.tolist())\n",
    "        i += 1\n",
    "    else:\n",
    "        x_input = np.array(temp_input)\n",
    "        x_input = x_input.reshape((1, len(temp_input), 1))  # Adjust the shape based on the length of temp_input\n",
    "        yhat = model.predict(x_input, verbose=0)\n",
    "        print(\"{} month output {}\".format(i, yhat[0]))\n",
    "        temp_input.extend(yhat[0].tolist())\n",
    "        i += 1\n",
    "\n",
    "print(lst_output)\n"
   ]
  },
  {
   "cell_type": "code",
   "execution_count": 45,
   "id": "3a2051be",
   "metadata": {},
   "outputs": [
    {
     "ename": "ValueError",
     "evalue": "setting an array element with a sequence. The requested array has an inhomogeneous shape after 1 dimensions. The detected shape was (2,) + inhomogeneous part.",
     "output_type": "error",
     "traceback": [
      "\u001b[1;31m---------------------------------------------------------------------------\u001b[0m",
      "\u001b[1;31mValueError\u001b[0m                                Traceback (most recent call last)",
      "Cell \u001b[1;32mIn[45], line 16\u001b[0m\n\u001b[0;32m     14\u001b[0m     i \u001b[38;5;241m+\u001b[39m\u001b[38;5;241m=\u001b[39m \u001b[38;5;241m1\u001b[39m\n\u001b[0;32m     15\u001b[0m \u001b[38;5;28;01melse\u001b[39;00m:\n\u001b[1;32m---> 16\u001b[0m     x_input \u001b[38;5;241m=\u001b[39m np\u001b[38;5;241m.\u001b[39marray(temp_input, dtype\u001b[38;5;241m=\u001b[39mnp\u001b[38;5;241m.\u001b[39mfloat32)\n\u001b[0;32m     17\u001b[0m     x_input \u001b[38;5;241m=\u001b[39m x_input\u001b[38;5;241m.\u001b[39mreshape((\u001b[38;5;241m1\u001b[39m, \u001b[38;5;28mlen\u001b[39m(temp_input), \u001b[38;5;241m1\u001b[39m))\n\u001b[0;32m     18\u001b[0m     yhat \u001b[38;5;241m=\u001b[39m model\u001b[38;5;241m.\u001b[39mpredict(x_input, verbose\u001b[38;5;241m=\u001b[39m\u001b[38;5;241m0\u001b[39m)\n",
      "\u001b[1;31mValueError\u001b[0m: setting an array element with a sequence. The requested array has an inhomogeneous shape after 1 dimensions. The detected shape was (2,) + inhomogeneous part."
     ]
    }
   ],
   "source": []
  },
  {
   "cell_type": "code",
   "execution_count": null,
   "id": "0449f840",
   "metadata": {},
   "outputs": [],
   "source": []
  },
  {
   "cell_type": "code",
   "execution_count": null,
   "id": "2d28d0ff",
   "metadata": {},
   "outputs": [],
   "source": []
  },
  {
   "cell_type": "code",
   "execution_count": null,
   "id": "f9f101d3",
   "metadata": {},
   "outputs": [],
   "source": []
  },
  {
   "cell_type": "code",
   "execution_count": null,
   "id": "7fe9cea7",
   "metadata": {},
   "outputs": [],
   "source": []
  }
 ],
 "metadata": {
  "kernelspec": {
   "display_name": "Python 3 (ipykernel)",
   "language": "python",
   "name": "python3"
  },
  "language_info": {
   "codemirror_mode": {
    "name": "ipython",
    "version": 3
   },
   "file_extension": ".py",
   "mimetype": "text/x-python",
   "name": "python",
   "nbconvert_exporter": "python",
   "pygments_lexer": "ipython3",
   "version": "3.11.4"
  }
 },
 "nbformat": 4,
 "nbformat_minor": 5
}
